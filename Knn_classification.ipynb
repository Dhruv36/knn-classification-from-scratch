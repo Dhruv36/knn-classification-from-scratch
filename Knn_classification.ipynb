{
  "nbformat": 4,
  "nbformat_minor": 0,
  "metadata": {
    "kernelspec": {
      "display_name": "Python 3",
      "language": "python",
      "name": "python3"
    },
    "language_info": {
      "codemirror_mode": {
        "name": "ipython",
        "version": 3
      },
      "file_extension": ".py",
      "mimetype": "text/x-python",
      "name": "python",
      "nbconvert_exporter": "python",
      "pygments_lexer": "ipython3",
      "version": "3.7.4"
    },
    "colab": {
      "name": "Knn classification.ipynb",
      "provenance": [],
      "include_colab_link": true
    }
  },
  "cells": [
    {
      "cell_type": "markdown",
      "metadata": {
        "id": "view-in-github",
        "colab_type": "text"
      },
      "source": [
        "<a href=\"https://colab.research.google.com/github/Dhruv36/knn-classification-from-scratch/blob/main/Knn_classification.ipynb\" target=\"_parent\"><img src=\"https://colab.research.google.com/assets/colab-badge.svg\" alt=\"Open In Colab\"/></a>"
      ]
    },
    {
      "cell_type": "code",
      "metadata": {
        "id": "34BV0eAdAVcQ"
      },
      "source": [
        "import pandas as pd\n",
        "import random \n",
        "import numpy as np"
      ],
      "execution_count": null,
      "outputs": []
    },
    {
      "cell_type": "code",
      "metadata": {
        "id": "MbBKMQRZAVcR"
      },
      "source": [
        "# A) Randomly dividing dataset into debelopment and test set.\n",
        "\n",
        "data = pd.read_csv(\"iris_data.csv\")\n",
        "\n",
        "def train_test_split(data, split_value = 0.7):\n",
        "    cols = list(data.columns)[0]\n",
        "    t = int(data[cols].count())\n",
        "    split = int(split_value*t)\n",
        "    r = random.sample(range(0,t ), t)\n",
        "    \n",
        "    i = 0\n",
        "    train_dataL = []\n",
        "    test_dataL = []\n",
        "    while(i<split):\n",
        "        train_dataL.append(list(data.iloc[r[i]]))\n",
        "        i += 1\n",
        "    i = split\n",
        "    while(i<t):\n",
        "        test_dataL.append(list(data.iloc[r[i]]))\n",
        "        i += 1\n",
        "    train_data = pd.DataFrame(train_dataL)\n",
        "    test_data = pd.DataFrame(test_dataL)\n",
        "    return train_data, test_data,train_dataL, test_dataL"
      ],
      "execution_count": null,
      "outputs": []
    },
    {
      "cell_type": "code",
      "metadata": {
        "id": "QqNHODMIAVcR"
      },
      "source": [
        "train, test, train_dataL, test_dataL = train_test_split(data) \n",
        "train = train.rename(columns = {0:\"sepal_length\",1:\"sepal_width\",2:\"petal_length\",3:\"petal_width\",4:\"type\"})\n",
        "test = test.rename(columns = {0:\"sepal_length\",1:\"sepal_width\",2:\"petal_length\",3:\"petal_width\",4:\"type\"})"
      ],
      "execution_count": null,
      "outputs": []
    },
    {
      "cell_type": "code",
      "metadata": {
        "id": "Xj80v2M4AVcR",
        "outputId": "b6df93ab-9d51-4c67-f017-f1d72b3c7cac"
      },
      "source": [
        "train.head()"
      ],
      "execution_count": null,
      "outputs": [
        {
          "output_type": "execute_result",
          "data": {
            "text/html": [
              "<div>\n",
              "<style scoped>\n",
              "    .dataframe tbody tr th:only-of-type {\n",
              "        vertical-align: middle;\n",
              "    }\n",
              "\n",
              "    .dataframe tbody tr th {\n",
              "        vertical-align: top;\n",
              "    }\n",
              "\n",
              "    .dataframe thead th {\n",
              "        text-align: right;\n",
              "    }\n",
              "</style>\n",
              "<table border=\"1\" class=\"dataframe\">\n",
              "  <thead>\n",
              "    <tr style=\"text-align: right;\">\n",
              "      <th></th>\n",
              "      <th>sepal_length</th>\n",
              "      <th>sepal_width</th>\n",
              "      <th>petal_length</th>\n",
              "      <th>petal_width</th>\n",
              "      <th>type</th>\n",
              "    </tr>\n",
              "  </thead>\n",
              "  <tbody>\n",
              "    <tr>\n",
              "      <td>0</td>\n",
              "      <td>6.7</td>\n",
              "      <td>3.1</td>\n",
              "      <td>4.7</td>\n",
              "      <td>1.5</td>\n",
              "      <td>Iris-versicolor</td>\n",
              "    </tr>\n",
              "    <tr>\n",
              "      <td>1</td>\n",
              "      <td>5.7</td>\n",
              "      <td>2.8</td>\n",
              "      <td>4.1</td>\n",
              "      <td>1.3</td>\n",
              "      <td>Iris-versicolor</td>\n",
              "    </tr>\n",
              "    <tr>\n",
              "      <td>2</td>\n",
              "      <td>5.9</td>\n",
              "      <td>3.0</td>\n",
              "      <td>4.2</td>\n",
              "      <td>1.5</td>\n",
              "      <td>Iris-versicolor</td>\n",
              "    </tr>\n",
              "    <tr>\n",
              "      <td>3</td>\n",
              "      <td>5.8</td>\n",
              "      <td>2.7</td>\n",
              "      <td>5.1</td>\n",
              "      <td>1.9</td>\n",
              "      <td>Iris-virginica</td>\n",
              "    </tr>\n",
              "    <tr>\n",
              "      <td>4</td>\n",
              "      <td>5.5</td>\n",
              "      <td>2.5</td>\n",
              "      <td>4.0</td>\n",
              "      <td>1.3</td>\n",
              "      <td>Iris-versicolor</td>\n",
              "    </tr>\n",
              "  </tbody>\n",
              "</table>\n",
              "</div>"
            ],
            "text/plain": [
              "   sepal_length  sepal_width  petal_length  petal_width             type\n",
              "0           6.7          3.1           4.7          1.5  Iris-versicolor\n",
              "1           5.7          2.8           4.1          1.3  Iris-versicolor\n",
              "2           5.9          3.0           4.2          1.5  Iris-versicolor\n",
              "3           5.8          2.7           5.1          1.9   Iris-virginica\n",
              "4           5.5          2.5           4.0          1.3  Iris-versicolor"
            ]
          },
          "metadata": {
            "tags": []
          },
          "execution_count": 4
        }
      ]
    },
    {
      "cell_type": "code",
      "metadata": {
        "id": "UCRnoMIDAVcT",
        "outputId": "36245dae-2e24-45db-e64c-36a3a507fdfa"
      },
      "source": [
        "test.head()"
      ],
      "execution_count": null,
      "outputs": [
        {
          "output_type": "execute_result",
          "data": {
            "text/html": [
              "<div>\n",
              "<style scoped>\n",
              "    .dataframe tbody tr th:only-of-type {\n",
              "        vertical-align: middle;\n",
              "    }\n",
              "\n",
              "    .dataframe tbody tr th {\n",
              "        vertical-align: top;\n",
              "    }\n",
              "\n",
              "    .dataframe thead th {\n",
              "        text-align: right;\n",
              "    }\n",
              "</style>\n",
              "<table border=\"1\" class=\"dataframe\">\n",
              "  <thead>\n",
              "    <tr style=\"text-align: right;\">\n",
              "      <th></th>\n",
              "      <th>sepal_length</th>\n",
              "      <th>sepal_width</th>\n",
              "      <th>petal_length</th>\n",
              "      <th>petal_width</th>\n",
              "      <th>type</th>\n",
              "    </tr>\n",
              "  </thead>\n",
              "  <tbody>\n",
              "    <tr>\n",
              "      <td>0</td>\n",
              "      <td>6.5</td>\n",
              "      <td>2.8</td>\n",
              "      <td>4.6</td>\n",
              "      <td>1.5</td>\n",
              "      <td>Iris-versicolor</td>\n",
              "    </tr>\n",
              "    <tr>\n",
              "      <td>1</td>\n",
              "      <td>6.2</td>\n",
              "      <td>3.4</td>\n",
              "      <td>5.4</td>\n",
              "      <td>2.3</td>\n",
              "      <td>Iris-virginica</td>\n",
              "    </tr>\n",
              "    <tr>\n",
              "      <td>2</td>\n",
              "      <td>4.6</td>\n",
              "      <td>3.1</td>\n",
              "      <td>1.5</td>\n",
              "      <td>0.2</td>\n",
              "      <td>Iris-setosa</td>\n",
              "    </tr>\n",
              "    <tr>\n",
              "      <td>3</td>\n",
              "      <td>5.7</td>\n",
              "      <td>2.9</td>\n",
              "      <td>4.2</td>\n",
              "      <td>1.3</td>\n",
              "      <td>Iris-versicolor</td>\n",
              "    </tr>\n",
              "    <tr>\n",
              "      <td>4</td>\n",
              "      <td>4.3</td>\n",
              "      <td>3.0</td>\n",
              "      <td>1.1</td>\n",
              "      <td>0.1</td>\n",
              "      <td>Iris-setosa</td>\n",
              "    </tr>\n",
              "  </tbody>\n",
              "</table>\n",
              "</div>"
            ],
            "text/plain": [
              "   sepal_length  sepal_width  petal_length  petal_width             type\n",
              "0           6.5          2.8           4.6          1.5  Iris-versicolor\n",
              "1           6.2          3.4           5.4          2.3   Iris-virginica\n",
              "2           4.6          3.1           1.5          0.2      Iris-setosa\n",
              "3           5.7          2.9           4.2          1.3  Iris-versicolor\n",
              "4           4.3          3.0           1.1          0.1      Iris-setosa"
            ]
          },
          "metadata": {
            "tags": []
          },
          "execution_count": 5
        }
      ]
    },
    {
      "cell_type": "code",
      "metadata": {
        "id": "XX-OQm4zAVcT"
      },
      "source": [
        "# Finding distance between two points \n",
        "\n",
        "def cal_dist(data1, data2, M):\n",
        "    dist = 0 \n",
        "    \n",
        "    if M == \"euclidean distance\":\n",
        "        for i in range(len(data1)-1):\n",
        "            dist = dist +  np.square(data1[i] - data2[i])\n",
        "        return np.sqrt(dist)\n",
        "   \n",
        "    elif M == \"normalized euclidean\":\n",
        "        for i in range(len(data1)-1):\n",
        "            dist = dist +  np.square(data1[i] - data2[i])\n",
        "        return np.sqrt(dist//len(data1))\n",
        "    \n",
        "    elif M == \"cosine similarity\":\n",
        "        c = np.dot(data1, data2) / (np.linalg.norm(data1) * np.linalg.norm(data2) )\n",
        "        return (1-c) \n",
        "    \n",
        "    elif M == \"Manhattan Distance\":\n",
        "        for i in range(len(data1)-1):\n",
        "            dist = dist + (data1[i] - data2[i])\n",
        "        return dist        "
      ],
      "execution_count": null,
      "outputs": []
    },
    {
      "cell_type": "code",
      "metadata": {
        "id": "kkVia5QWAVcT"
      },
      "source": [
        "def knn(train_x, train_y, test, distf, k):\n",
        "    pred = []\n",
        "    \n",
        "    for i in test:\n",
        "        dis = []\n",
        "        for j,c in zip(train_x, train_y):\n",
        "            d = cal_dist(i,j,distf)\n",
        "            dis.append([d,c])\n",
        "        dis.sort()\n",
        "        c = {}\n",
        "        for l in range(k):\n",
        "            if dis[l][1] not in c:\n",
        "                c[dis[l][1]] = 0\n",
        "            c[dis[l][1]] += 1\n",
        "        m = -1\n",
        "        pre = \"\"\n",
        "        \n",
        "        for i in c:\n",
        "            if c[i]>m:\n",
        "                m = c[i]\n",
        "                pre = i\n",
        "        pred.append(pre)\n",
        "    \n",
        "    return pred"
      ],
      "execution_count": null,
      "outputs": []
    },
    {
      "cell_type": "code",
      "metadata": {
        "id": "KkUi-IeLAVcT"
      },
      "source": [
        "_,_,train, test = train_test_split(data)"
      ],
      "execution_count": null,
      "outputs": []
    },
    {
      "cell_type": "code",
      "metadata": {
        "id": "QStfK8BXAVcT"
      },
      "source": [
        "x_train = []\n",
        "y_train = []\n",
        "x_test = []\n",
        "y_test = []\n",
        "\n",
        "for i in train:\n",
        "    x_train.append(i[:-1])\n",
        "    y_train.append(i[-1])\n",
        "    \n",
        "for i in test:\n",
        "    x_test.append(i[:-1])\n",
        "    y_test.append(i[-1])"
      ],
      "execution_count": null,
      "outputs": []
    },
    {
      "cell_type": "code",
      "metadata": {
        "id": "UYzZlLw-AVcT",
        "outputId": "b9302d32-84d3-4176-b237-fb6f43b8d161"
      },
      "source": [
        "# Euclidean Distance \n",
        "\n",
        "for k in range(1,16):\n",
        "    a_a = []\n",
        "    predictions = knn(x_train, y_train, x_test, \"euclidean distance\",k)\n",
        "    correct = 0\n",
        "    for i, j in zip(predictions, y_test):\n",
        "        if i==j:\n",
        "            correct+=1\n",
        "    a_a.append(correct/len(predictions))\n",
        "    print(\"Accuracy when K is\",k,\":\" , correct/len(predictions)*100)"
      ],
      "execution_count": null,
      "outputs": [
        {
          "output_type": "stream",
          "text": [
            "Accuracy when K is 1 : 100.0\n",
            "Accuracy when K is 2 : 100.0\n",
            "Accuracy when K is 3 : 100.0\n",
            "Accuracy when K is 4 : 100.0\n",
            "Accuracy when K is 5 : 100.0\n",
            "Accuracy when K is 6 : 100.0\n",
            "Accuracy when K is 7 : 97.77777777777777\n",
            "Accuracy when K is 8 : 100.0\n",
            "Accuracy when K is 9 : 97.77777777777777\n",
            "Accuracy when K is 10 : 100.0\n",
            "Accuracy when K is 11 : 97.77777777777777\n",
            "Accuracy when K is 12 : 97.77777777777777\n",
            "Accuracy when K is 13 : 97.77777777777777\n",
            "Accuracy when K is 14 : 97.77777777777777\n",
            "Accuracy when K is 15 : 97.77777777777777\n"
          ],
          "name": "stdout"
        }
      ]
    },
    {
      "cell_type": "code",
      "metadata": {
        "id": "gVMnz7zDAVcT",
        "outputId": "bbff105c-38f4-4a9a-c4ea-d27b0ff3e4b2"
      },
      "source": [
        "# Normalized Eculidean Distance \n",
        "\n",
        "for k in range(1,16):\n",
        "    a_b = []\n",
        "    predictions = knn(x_train, y_train, x_test, \"normalized euclidean\",k)\n",
        "    correct = 0\n",
        "    for i, j in zip(predictions, y_test):\n",
        "        if i==j:\n",
        "            correct+=1\n",
        "    a_b.append(correct/len(predictions))\n",
        "    print(\"Accuracy when K is\",k,\":\" , correct/len(predictions)*100)"
      ],
      "execution_count": null,
      "outputs": [
        {
          "output_type": "stream",
          "text": [
            "Accuracy when K is 1 : 60.0\n",
            "Accuracy when K is 2 : 60.0\n",
            "Accuracy when K is 3 : 64.44444444444444\n",
            "Accuracy when K is 4 : 64.44444444444444\n",
            "Accuracy when K is 5 : 64.44444444444444\n",
            "Accuracy when K is 6 : 64.44444444444444\n",
            "Accuracy when K is 7 : 66.66666666666666\n",
            "Accuracy when K is 8 : 66.66666666666666\n",
            "Accuracy when K is 9 : 66.66666666666666\n",
            "Accuracy when K is 10 : 66.66666666666666\n",
            "Accuracy when K is 11 : 66.66666666666666\n",
            "Accuracy when K is 12 : 66.66666666666666\n",
            "Accuracy when K is 13 : 68.88888888888889\n",
            "Accuracy when K is 14 : 68.88888888888889\n",
            "Accuracy when K is 15 : 68.88888888888889\n"
          ],
          "name": "stdout"
        }
      ]
    },
    {
      "cell_type": "code",
      "metadata": {
        "id": "LQB1sO9wAVcU",
        "outputId": "cc87d278-490d-4f28-ac62-60e11fa36026"
      },
      "source": [
        "# Cosine Similarity \n",
        "\n",
        "for k in range(1,16):\n",
        "    a_c = []\n",
        "    predictions = knn(x_train, y_train, x_test, \"cosine similarity\",k)\n",
        "    correct = 0\n",
        "    for i, j in zip(predictions, y_test):\n",
        "        if i==j:\n",
        "            correct+=1\n",
        "    a_c.append(correct/len(predictions))\n",
        "    print(\"Accuracy when K is\",k,\":\" , correct/len(predictions)*100)"
      ],
      "execution_count": null,
      "outputs": [
        {
          "output_type": "stream",
          "text": [
            "Accuracy when K is 1 : 93.33333333333333\n",
            "Accuracy when K is 2 : 93.33333333333333\n",
            "Accuracy when K is 3 : 100.0\n",
            "Accuracy when K is 4 : 100.0\n",
            "Accuracy when K is 5 : 100.0\n",
            "Accuracy when K is 6 : 100.0\n",
            "Accuracy when K is 7 : 100.0\n",
            "Accuracy when K is 8 : 100.0\n",
            "Accuracy when K is 9 : 100.0\n",
            "Accuracy when K is 10 : 97.77777777777777\n",
            "Accuracy when K is 11 : 97.77777777777777\n",
            "Accuracy when K is 12 : 97.77777777777777\n",
            "Accuracy when K is 13 : 100.0\n",
            "Accuracy when K is 14 : 100.0\n",
            "Accuracy when K is 15 : 100.0\n"
          ],
          "name": "stdout"
        }
      ]
    },
    {
      "cell_type": "code",
      "metadata": {
        "id": "n9lRpET2AVcU",
        "outputId": "9c8af200-d27b-48c2-c6b6-8c0622acad31"
      },
      "source": [
        "# Manhattan Distance \n",
        "\n",
        "for k in range(1,16):\n",
        "    a_d = []\n",
        "    predictions = knn(x_train, y_train, x_test, \"Manhattan Distance\" ,k)\n",
        "    correct = 0\n",
        "    for i, j in zip(predictions, y_test):\n",
        "        if i==j:\n",
        "            correct+=1\n",
        "    a_d.append(correct/len(predictions))\n",
        "    print(\"Accuracy when K is\",k,\":\" , correct/len(predictions)*100)"
      ],
      "execution_count": null,
      "outputs": [
        {
          "output_type": "stream",
          "text": [
            "Accuracy when K is 1 : 37.77777777777778\n",
            "Accuracy when K is 2 : 37.77777777777778\n",
            "Accuracy when K is 3 : 37.77777777777778\n",
            "Accuracy when K is 4 : 37.77777777777778\n",
            "Accuracy when K is 5 : 37.77777777777778\n",
            "Accuracy when K is 6 : 37.77777777777778\n",
            "Accuracy when K is 7 : 37.77777777777778\n",
            "Accuracy when K is 8 : 37.77777777777778\n",
            "Accuracy when K is 9 : 37.77777777777778\n",
            "Accuracy when K is 10 : 37.77777777777778\n",
            "Accuracy when K is 11 : 37.77777777777778\n",
            "Accuracy when K is 12 : 37.77777777777778\n",
            "Accuracy when K is 13 : 37.77777777777778\n",
            "Accuracy when K is 14 : 37.77777777777778\n",
            "Accuracy when K is 15 : 37.77777777777778\n"
          ],
          "name": "stdout"
        }
      ]
    }
  ]
}